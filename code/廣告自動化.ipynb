{
 "cells": [
  {
   "cell_type": "code",
   "execution_count": 1,
   "metadata": {},
   "outputs": [],
   "source": [
    "from selenium import webdriver\n",
    "import bs4 as bs\n",
    "from bs4 import BeautifulSoup\n",
    "import sys\n",
    "import time\n",
    "import os\n",
    "import csv\n",
    "import re\n",
    "import pandas as pd\n",
    "import random"
   ]
  },
  {
   "cell_type": "code",
   "execution_count": 2,
   "metadata": {},
   "outputs": [],
   "source": [
    "df = pd.DataFrame()\n",
    "df_total = pd.DataFrame()\n",
    "\n",
    "chrome_path = \"./chromedriver.exe\" #chromedriver.exe執行檔所存在的路徑\n",
    "driver = webdriver.Chrome(chrome_path)\n",
    "driver.get(\"https://www.ruten.com.tw/\")\n",
    "\n",
    "name_reach = \"iphone充電線\"\n",
    "num_page = 6 #目標頁少一頁\n",
    "num_product = 80\n",
    "\n",
    "###  define 研究的產品 (罐頭)\n",
    "\n",
    "    ### 搜尋名稱\n",
    "driver.find_element_by_xpath(\"//input[@id='keyword']\").send_keys(name_reach)\n",
    "    ### 搜尋\n",
    "driver.find_element_by_xpath(\"//input[@class='rt-header-search-submit']\").click()\n",
    "    \n",
    "    ### 切換顯示方式\n",
    "driver.find_element_by_xpath(\"//a[contains(@class,'list')]\").click()\n",
    "    \n",
    "    \n",
    "    \n",
    "for pag in range(num_page-1) :\n",
    "    \n",
    "    url = driver.current_url\n",
    "    \n",
    "    ########################## 抓\n",
    "    time.sleep(random.uniform(3,4))\n",
    "    page_source = driver.page_source\n",
    "    soup = BeautifulSoup(page_source, 'html.parser')\n",
    "    \n",
    "    \n",
    "    \n",
    "    \n",
    "    Trace_num = []\n",
    "    sale_num = []\n",
    "    RY = []\n",
    "    ID = []\n",
    "    AD = []\n",
    "\n",
    "    \n",
    "    \n",
    "    for pro in range(len(soup.find_all(class_ = \"col3f\"))):\n",
    "\n",
    "        #sale_num\n",
    "        try : \n",
    "            sale_num.append(int(soup.find_all(class_ = \"col3f\")[pro].find(class_ = \"note\").text.replace('銷售','')))\n",
    "        except :\n",
    "            sale_num.append('0')\n",
    "        \n",
    "        \n",
    "        \n",
    "        \n",
    "        \n",
    "        #紅黃框       \n",
    "        RY.append((soup.find_all('dl','col3f')[pro].get('class')))\n",
    "        \n",
    "        #商品ID\n",
    "        ID.append((soup.find_all('dl','col3f')[pro].get('_id')))\n",
    "    \n",
    "        #紅黃框   \n",
    "        #for a in soup.find_all('dl','col3f'):\n",
    "            #RY.append(a.get('class'))\n",
    "            \n",
    "        #商品ID\n",
    "        #for a in soup.find_all('dl','col3f'):\n",
    "            #ID.append(a.get('_id'))\n",
    "    \n",
    "    #追蹤人數\n",
    "    if len(soup.find_all(title = re.compile('已有'))) > 80 :\n",
    "        Trace_num = list(map(lambda x : x.text ,soup.find_all(title = re.compile('已有'))))[:80]\n",
    "    else :\n",
    "        Trace_num = list(map(lambda x : x.text ,soup.find_all(title = re.compile('已有'))))\n",
    "    #廣告\n",
    "    if len(soup.find_all(title = re.compile('已有'))) > 80 :\n",
    "        AD = list(map(lambda x : x.text ,soup.find_all('span', class_='ads_tag')))[:num_product]\n",
    "    else :\n",
    "        AD = list(map(lambda x : x.text ,soup.find_all('span', class_='ads_tag')))\n",
    "    ##########################\n",
    "    df['ID'] = ID\n",
    "    df['sale_num'] = sale_num\n",
    "    df['AD'] = AD\n",
    "    df['RY'] = RY\n",
    "    df['Trace_num'] = Trace_num\n",
    "    df['page'] = pag +1 \n",
    "    \n",
    "    \n",
    "    df_total = pd.concat([df_total,df])\n",
    "    \n",
    "    \n",
    "    driver.find_element_by_xpath(\"//ul[@class='pages']//li[@class='next']//a\").click()"
   ]
  },
  {
   "cell_type": "code",
   "execution_count": 8,
   "metadata": {},
   "outputs": [],
   "source": [
    "df_total['rank_eachpage'] = df_total.index+1\n",
    "df_total.to_csv('./0117.csv',index=False)"
   ]
  },
  {
   "cell_type": "code",
   "execution_count": 27,
   "metadata": {},
   "outputs": [
    {
     "data": {
      "text/plain": [
       "80"
      ]
     },
     "execution_count": 27,
     "metadata": {},
     "output_type": "execute_result"
    }
   ],
   "source": [
    "len(Trace_num)"
   ]
  },
  {
   "cell_type": "code",
   "execution_count": 28,
   "metadata": {},
   "outputs": [
    {
     "data": {
      "text/plain": [
       "80"
      ]
     },
     "execution_count": 28,
     "metadata": {},
     "output_type": "execute_result"
    }
   ],
   "source": [
    "len(sale_num) "
   ]
  },
  {
   "cell_type": "code",
   "execution_count": 29,
   "metadata": {},
   "outputs": [
    {
     "data": {
      "text/plain": [
       "80"
      ]
     },
     "execution_count": 29,
     "metadata": {},
     "output_type": "execute_result"
    }
   ],
   "source": [
    "len(RY)"
   ]
  },
  {
   "cell_type": "code",
   "execution_count": 30,
   "metadata": {},
   "outputs": [
    {
     "data": {
      "text/plain": [
       "80"
      ]
     },
     "execution_count": 30,
     "metadata": {},
     "output_type": "execute_result"
    }
   ],
   "source": [
    "len(ID)"
   ]
  },
  {
   "cell_type": "code",
   "execution_count": 31,
   "metadata": {},
   "outputs": [
    {
     "data": {
      "text/plain": [
       "80"
      ]
     },
     "execution_count": 31,
     "metadata": {},
     "output_type": "execute_result"
    }
   ],
   "source": [
    "len(AD)"
   ]
  },
  {
   "cell_type": "code",
   "execution_count": 32,
   "metadata": {},
   "outputs": [],
   "source": [
    "df_total['rank_eachpage'] = df_total.index+1\n",
    "df_total.to_csv('./0117.csv',index=False)"
   ]
  },
  {
   "cell_type": "code",
   "execution_count": 34,
   "metadata": {},
   "outputs": [
    {
     "data": {
      "text/html": [
       "<div>\n",
       "<style scoped>\n",
       "    .dataframe tbody tr th:only-of-type {\n",
       "        vertical-align: middle;\n",
       "    }\n",
       "\n",
       "    .dataframe tbody tr th {\n",
       "        vertical-align: top;\n",
       "    }\n",
       "\n",
       "    .dataframe thead th {\n",
       "        text-align: right;\n",
       "    }\n",
       "</style>\n",
       "<table border=\"1\" class=\"dataframe\">\n",
       "  <thead>\n",
       "    <tr style=\"text-align: right;\">\n",
       "      <th></th>\n",
       "      <th>ID</th>\n",
       "      <th>sale_num</th>\n",
       "      <th>AD</th>\n",
       "      <th>RY</th>\n",
       "      <th>Trace_num</th>\n",
       "      <th>page</th>\n",
       "      <th>rank_eachpage</th>\n",
       "    </tr>\n",
       "  </thead>\n",
       "  <tbody>\n",
       "    <tr>\n",
       "      <td>0</td>\n",
       "      <td>21306013652122</td>\n",
       "      <td>37123</td>\n",
       "      <td>廣告</td>\n",
       "      <td>['col3f', 's_shining']</td>\n",
       "      <td>591</td>\n",
       "      <td>1</td>\n",
       "      <td>1</td>\n",
       "    </tr>\n",
       "    <tr>\n",
       "      <td>1</td>\n",
       "      <td>21919391256750</td>\n",
       "      <td>4302</td>\n",
       "      <td>廣告</td>\n",
       "      <td>['col3f']</td>\n",
       "      <td>41</td>\n",
       "      <td>1</td>\n",
       "      <td>2</td>\n",
       "    </tr>\n",
       "    <tr>\n",
       "      <td>2</td>\n",
       "      <td>21904684329839</td>\n",
       "      <td>1602</td>\n",
       "      <td>廣告</td>\n",
       "      <td>['col3f']</td>\n",
       "      <td>224</td>\n",
       "      <td>1</td>\n",
       "      <td>3</td>\n",
       "    </tr>\n",
       "    <tr>\n",
       "      <td>3</td>\n",
       "      <td>21707288442128</td>\n",
       "      <td>111</td>\n",
       "      <td>廣告</td>\n",
       "      <td>['col3f']</td>\n",
       "      <td>56</td>\n",
       "      <td>1</td>\n",
       "      <td>4</td>\n",
       "    </tr>\n",
       "    <tr>\n",
       "      <td>4</td>\n",
       "      <td>21807687309214</td>\n",
       "      <td>14568</td>\n",
       "      <td>廣告</td>\n",
       "      <td>['col3f', 's_shining']</td>\n",
       "      <td>4800</td>\n",
       "      <td>1</td>\n",
       "      <td>5</td>\n",
       "    </tr>\n",
       "    <tr>\n",
       "      <td>...</td>\n",
       "      <td>...</td>\n",
       "      <td>...</td>\n",
       "      <td>...</td>\n",
       "      <td>...</td>\n",
       "      <td>...</td>\n",
       "      <td>...</td>\n",
       "      <td>...</td>\n",
       "    </tr>\n",
       "    <tr>\n",
       "      <td>2395</td>\n",
       "      <td>21848073055890</td>\n",
       "      <td>24</td>\n",
       "      <td>NaN</td>\n",
       "      <td>['col3f']</td>\n",
       "      <td>8</td>\n",
       "      <td>30</td>\n",
       "      <td>76</td>\n",
       "    </tr>\n",
       "    <tr>\n",
       "      <td>2396</td>\n",
       "      <td>21917115214903</td>\n",
       "      <td>33</td>\n",
       "      <td>NaN</td>\n",
       "      <td>['col3f']</td>\n",
       "      <td>7</td>\n",
       "      <td>30</td>\n",
       "      <td>77</td>\n",
       "    </tr>\n",
       "    <tr>\n",
       "      <td>2397</td>\n",
       "      <td>21827294445693</td>\n",
       "      <td>18</td>\n",
       "      <td>NaN</td>\n",
       "      <td>['col3f']</td>\n",
       "      <td>5</td>\n",
       "      <td>30</td>\n",
       "      <td>78</td>\n",
       "    </tr>\n",
       "    <tr>\n",
       "      <td>2398</td>\n",
       "      <td>21910116907388</td>\n",
       "      <td>261</td>\n",
       "      <td>NaN</td>\n",
       "      <td>['col3f']</td>\n",
       "      <td>39</td>\n",
       "      <td>30</td>\n",
       "      <td>79</td>\n",
       "    </tr>\n",
       "    <tr>\n",
       "      <td>2399</td>\n",
       "      <td>21942372682219</td>\n",
       "      <td>9</td>\n",
       "      <td>NaN</td>\n",
       "      <td>['col3f']</td>\n",
       "      <td>4</td>\n",
       "      <td>30</td>\n",
       "      <td>80</td>\n",
       "    </tr>\n",
       "  </tbody>\n",
       "</table>\n",
       "<p>2400 rows × 7 columns</p>\n",
       "</div>"
      ],
      "text/plain": [
       "                  ID  sale_num   AD                      RY  Trace_num  page  \\\n",
       "0     21306013652122     37123   廣告  ['col3f', 's_shining']        591     1   \n",
       "1     21919391256750      4302   廣告               ['col3f']         41     1   \n",
       "2     21904684329839      1602   廣告               ['col3f']        224     1   \n",
       "3     21707288442128       111   廣告               ['col3f']         56     1   \n",
       "4     21807687309214     14568   廣告  ['col3f', 's_shining']       4800     1   \n",
       "...              ...       ...  ...                     ...        ...   ...   \n",
       "2395  21848073055890        24  NaN               ['col3f']          8    30   \n",
       "2396  21917115214903        33  NaN               ['col3f']          7    30   \n",
       "2397  21827294445693        18  NaN               ['col3f']          5    30   \n",
       "2398  21910116907388       261  NaN               ['col3f']         39    30   \n",
       "2399  21942372682219         9  NaN               ['col3f']          4    30   \n",
       "\n",
       "      rank_eachpage  \n",
       "0                 1  \n",
       "1                 2  \n",
       "2                 3  \n",
       "3                 4  \n",
       "4                 5  \n",
       "...             ...  \n",
       "2395             76  \n",
       "2396             77  \n",
       "2397             78  \n",
       "2398             79  \n",
       "2399             80  \n",
       "\n",
       "[2400 rows x 7 columns]"
      ]
     },
     "execution_count": 34,
     "metadata": {},
     "output_type": "execute_result"
    }
   ],
   "source": [
    "pd.read_csv('./0117.csv')"
   ]
  },
  {
   "cell_type": "code",
   "execution_count": null,
   "metadata": {},
   "outputs": [],
   "source": []
  }
 ],
 "metadata": {
  "kernelspec": {
   "display_name": "Python 3",
   "language": "python",
   "name": "python3"
  },
  "language_info": {
   "codemirror_mode": {
    "name": "ipython",
    "version": 3
   },
   "file_extension": ".py",
   "mimetype": "text/x-python",
   "name": "python",
   "nbconvert_exporter": "python",
   "pygments_lexer": "ipython3",
   "version": "3.7.4"
  }
 },
 "nbformat": 4,
 "nbformat_minor": 2
}
