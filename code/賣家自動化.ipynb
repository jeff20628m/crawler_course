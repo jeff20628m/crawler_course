{
 "cells": [
  {
   "cell_type": "code",
   "execution_count": 39,
   "metadata": {},
   "outputs": [],
   "source": [
    "from selenium import webdriver\n",
    "import bs4 as bs\n",
    "\n",
    "import sys\n",
    "import time\n",
    "import os\n",
    "import csv"
   ]
  },
  {
   "cell_type": "code",
   "execution_count": 40,
   "metadata": {},
   "outputs": [],
   "source": [
    "headers = {\n",
    "    # User agent 路邊隨意撿一個來用\n",
    "\n",
    "    'User-Agent': 'Mozilla/5.0 (Macintosh; Intel Mac OS X 10_9_1) AppleWebKit/537.36 (KHTML, like Gecko) Chrome/32.0.1700.107 Safari/537.36',\n",
    "}\n",
    "\n",
    "cookies = {\n",
    "    # 就是這個光啦\n",
    "\n",
    "    '_ts_id':  '999999999999999999', \n",
    "}"
   ]
  },
  {
   "cell_type": "code",
   "execution_count": 43,
   "metadata": {},
   "outputs": [
    {
     "name": "stderr",
     "output_type": "stream",
     "text": [
      "C:\\Users\\lin\\Anaconda3\\lib\\site-packages\\ipykernel_launcher.py:31: DeprecationWarning: use driver.switch_to.window instead\n",
      "C:\\Users\\lin\\Anaconda3\\lib\\site-packages\\ipykernel_launcher.py:90: DeprecationWarning: use driver.switch_to.window instead\n"
     ]
    }
   ],
   "source": [
    "#放資料進來\n",
    "chrome_path = \"./chromedriver.exe\" #chromedriver.exe執行檔所存在的路徑\n",
    "driver = webdriver.Chrome(chrome_path)\n",
    "driver.get(\"https://www.ruten.com.tw/\")\n",
    "\n",
    "list_ = [\"iphone充電線\"]\n",
    "result = [[] for _ in range(2)]\n",
    "\n",
    "for name_reach in list_ :\n",
    "    ### 搜尋名稱\n",
    "    driver.find_element_by_xpath(\"//input[@id='keyword']\").send_keys(name_reach)\n",
    "    ### 搜尋\n",
    "    driver.find_element_by_xpath(\"//input[@class='rt-header-search-submit']\").click()\n",
    "    \n",
    "    ### 切換顯示方式\n",
    "    driver.find_element_by_xpath(\"//a[contains(@class,'list')]\").click()\n",
    "    \n",
    "    \n",
    "    for next_page in range(1) :\n",
    "        for product in range(1,3) :\n",
    "\n",
    "            ### click each product\n",
    "            time.sleep(3)\n",
    "            driver.find_element_by_xpath(\n",
    "                \"/html[1]/body[1]/div[1]/div[2]/div[1]/div[1]/div[2]/div[3]/dl[1]/dd[1]/dl[{}]/dd[1]/div[1]/a[1]/img[1]\".format(product)).click()\n",
    "            \n",
    "            time.sleep(3)\n",
    "            ### switch to current page \n",
    "            hand = driver.window_handles\n",
    "\n",
    "            driver.switch_to_window(hand[1])\n",
    "            ### 點賣家評價 \n",
    "            driver.find_element_by_xpath(\"//a[@class='rt-text-parentesis']\").click()\n",
    "            time.sleep(5)\n",
    "            ### 賣家頁面\n",
    "            elem = driver.find_element_by_xpath(\"//*\")\n",
    "            soup = bs.BeautifulSoup(elem.get_attribute(\"outerHTML\"), 'html.parser')\n",
    "            ##########################################\n",
    "            #seller_ID\n",
    "            result[0].append(soup.find('a', class_='be13').text)\n",
    "            #member_time \n",
    "            result[1].append(soup.find('font', face=\"Arial\").text)                 \n",
    "###問題在這裡!! 這裡要拿平均出貨天數...那五個數字綁在一起，不知道如何分別放入result!!!!!!############## \n",
    "            b = soup.find_all('td',align= 'right')\n",
    "            for aa in b:\n",
    "                if len(aa.text) > 0 and aa.text[0].isdigit():\n",
    "                    result.append(aa.text[:-1])\n",
    "                    \n",
    "            #總表\n",
    "            #rows = soup.find_all('td', align=\"center\", class_=\"bk13\")\n",
    "            ##result[3].append = ', '.join([list(row.stripped_strings)[0] for row in rows][4:])\n",
    "            \n",
    "            \n",
    "            #for seller in range(2,5) :\n",
    "                #driver.find_element_by_xpath(\n",
    "                    #\"/html[1]/body[1]/div[1]/div[2]/table[8]/tbody[1]/tr[1]/td[1]/table[1]/tbody[1]/tr[1]/td[{}]/table[1]/tbody[1]/tr[1]/td[2]/a[1]\".format(seller)).click()\n",
    "            #print('在賣東西')\n",
    "            #總表\n",
    "                #time.sleep(3)\n",
    "            \n",
    "            #driver.find_element_by_xpath(\"/html[1]/body[1]/div[1]/div[2]/table[8]/tbody[1]/tr[1]/td[1]/table[1]/tbody[1]/tr[1]/td[3]/table[1]/tbody[1]/tr[1]/td[2]/a[1]\").click()\n",
    "            #print('在買東西')\n",
    "            #總表\n",
    "            #time.sleep(2)\n",
    "            \n",
    "            #driver.find_element_by_xpath(\"/html[1]/body[1]/div[1]/div[2]/table[8]/tbody[1]/tr[1]/td[1]/table[1]/tbody[1]/tr[1]/td[4]/table[1]/tbody[1]/tr[1]/td[2]/a[1]\").click()\n",
    "            #print('在他人send')\n",
    "            #總表\n",
    "            #time.sleep(2)\n",
    "            \n",
    "            ##回上一頁，到產品頁\n",
    "            driver.back()\n",
    "                \n",
    "                \n",
    "                \n",
    "                \n",
    "                #html_re = requests.get(url, headers=headers, cookies=cookies)\n",
    "                #html_re.encoding = 'UTF-8'\n",
    "            #elem = driver.find_element_by_xpath(\"//*\")\n",
    "            #source_code = \n",
    "            \n",
    "            #page = driver.current_url\n",
    "            #page = Page(driver.current_url)\n",
    "            #soup = bs.BeautifulSoup(elem.get_attribute(\"outerHTML\"), 'html.parser')\n",
    "            ######################################\n",
    "            \n",
    "            \n",
    "            ######################################\n",
    "            driver.close()\n",
    "\n",
    "            driver.switch_to_window(hand[0])\n",
    "\n",
    "        \n",
    "        driver.find_element_by_xpath(\"//div[contains(@class,'block_C')]//li[14]//a[1]\").click()"
   ]
  },
  {
   "cell_type": "code",
   "execution_count": 45,
   "metadata": {},
   "outputs": [
    {
     "name": "stdout",
     "output_type": "stream",
     "text": [
      "[['qqn78', 'xnetcr95277'], ['2011-01-06', '2012-09-02'], '0.9', '25152', '954', '0', '0', '1.0', '17896', '770', '0', '0']\n"
     ]
    },
    {
     "data": {
      "text/plain": [
       "12"
      ]
     },
     "execution_count": 45,
     "metadata": {},
     "output_type": "execute_result"
    }
   ],
   "source": [
    "print(result)\n",
    "len(result)\n"
   ]
  },
  {
   "cell_type": "code",
   "execution_count": 46,
   "metadata": {},
   "outputs": [],
   "source": [
    "#存資料\n",
    "month = 1\n",
    "day = 14\n",
    "path = \"\\mydata\"\n",
    "#item = ['seller_ID','member_time','average_days','member','most_love','drop','nonfinish','d','QA', 'buyer_num','payment']\n",
    "item = ['seller_ID','member_time','average_days']\n",
    "\n",
    "#if os.path.isdir(path):\n",
    "    #os.makedirs(path)\n",
    "with open(f'{month}_{day}_seller.csv','w', newline='',encoding='utf-8') as csv_file:\n",
    "    writer=csv.writer(csv_file)\n",
    "    #變數名稱\n",
    "    writer.writerow(item)\n",
    "    #資料\n",
    "    for i in range(len(result[0])):\n",
    "        writer.writerow([result[j][i] for j in range(len(item))])"
   ]
  },
  {
   "cell_type": "code",
   "execution_count": null,
   "metadata": {},
   "outputs": [],
   "source": []
  },
  {
   "cell_type": "code",
   "execution_count": null,
   "metadata": {},
   "outputs": [],
   "source": []
  },
  {
   "cell_type": "code",
   "execution_count": null,
   "metadata": {},
   "outputs": [],
   "source": []
  },
  {
   "cell_type": "code",
   "execution_count": 7,
   "metadata": {},
   "outputs": [
    {
     "name": "stderr",
     "output_type": "stream",
     "text": [
      "C:\\Users\\lin\\Anaconda3\\lib\\site-packages\\ipykernel_launcher.py:28: DeprecationWarning: use driver.switch_to.window instead\n",
      "C:\\Users\\lin\\Anaconda3\\lib\\site-packages\\ipykernel_launcher.py:71: DeprecationWarning: use driver.switch_to.window instead\n"
     ]
    }
   ],
   "source": [
    "#試迴圈點開賣家評價，成功!!\n",
    "chrome_path = \"./chromedriver.exe\" #chromedriver.exe執行檔所存在的路徑\n",
    "driver = webdriver.Chrome(chrome_path)\n",
    "driver.get(\"https://www.ruten.com.tw/\")\n",
    "\n",
    "list_ = [\"iphone充電線\"]\n",
    "result = [[] for _ in range(24)]\n",
    "\n",
    "for name_reach in list_ :\n",
    "    ### 搜尋名稱\n",
    "    driver.find_element_by_xpath(\"//input[@id='keyword']\").send_keys(name_reach)\n",
    "    ### 搜尋\n",
    "    driver.find_element_by_xpath(\"//input[@class='rt-header-search-submit']\").click()\n",
    "    \n",
    "    ### 切換顯示方式\n",
    "    driver.find_element_by_xpath(\"//a[contains(@class,'list')]\").click()\n",
    "    \n",
    "    \n",
    "    for next_page in range(1) :\n",
    "        for product in range(1,5) :\n",
    "\n",
    "            ### click each product\n",
    "            time.sleep(3)\n",
    "            driver.find_element_by_xpath(\n",
    "                \"/html[1]/body[1]/div[1]/div[2]/div[1]/div[1]/div[2]/div[3]/dl[1]/dd[1]/dl[{}]/dd[1]/div[1]/a[1]/img[1]\".format(product)).click()\n",
    "            \n",
    "            time.sleep(3)\n",
    "            ### switch to current page \n",
    "            hand = driver.window_handles\n",
    "\n",
    "            driver.switch_to_window(hand[1])\n",
    "            driver.find_element_by_xpath(\"//a[@class='rt-text-parentesis']\").click()\n",
    "            time.sleep(5)\n",
    "            #print('在評價頁面')\n",
    "            #load ID time 5 總表\n",
    "            #time.sleep(2)\n",
    "            \n",
    "            for seller in range(2,5) :\n",
    "                driver.find_element_by_xpath(\n",
    "                    \"/html[1]/body[1]/div[1]/div[2]/table[8]/tbody[1]/tr[1]/td[1]/table[1]/tbody[1]/tr[1]/td[{}]/table[1]/tbody[1]/tr[1]/td[2]/a[1]\".format(seller)).click()\n",
    "            #print('在賣東西')\n",
    "            #總表\n",
    "                time.sleep(3)\n",
    "            \n",
    "            #driver.find_element_by_xpath(\"/html[1]/body[1]/div[1]/div[2]/table[8]/tbody[1]/tr[1]/td[1]/table[1]/tbody[1]/tr[1]/td[3]/table[1]/tbody[1]/tr[1]/td[2]/a[1]\").click()\n",
    "            #print('在買東西')\n",
    "            #總表\n",
    "            #time.sleep(2)\n",
    "            \n",
    "            #driver.find_element_by_xpath(\"/html[1]/body[1]/div[1]/div[2]/table[8]/tbody[1]/tr[1]/td[1]/table[1]/tbody[1]/tr[1]/td[4]/table[1]/tbody[1]/tr[1]/td[2]/a[1]\").click()\n",
    "            #print('在他人send')\n",
    "            #總表\n",
    "            #time.sleep(2)\n",
    "            \n",
    "            ##回上一頁，到產品頁\n",
    "            driver.back()\n",
    "                \n",
    "                \n",
    "                \n",
    "                \n",
    "                #html_re = requests.get(url, headers=headers, cookies=cookies)\n",
    "                #html_re.encoding = 'UTF-8'\n",
    "            #elem = driver.find_element_by_xpath(\"//*\")\n",
    "            #source_code = \n",
    "            \n",
    "            #page = driver.current_url\n",
    "            #page = Page(driver.current_url)\n",
    "            #soup = bs.BeautifulSoup(elem.get_attribute(\"outerHTML\"), 'html.parser')\n",
    "            ######################################\n",
    "            \n",
    "            \n",
    "            ######################################\n",
    "            driver.close()\n",
    "\n",
    "            driver.switch_to_window(hand[0])\n",
    "\n",
    "        \n",
    "        driver.find_element_by_xpath(\"//div[contains(@class,'block_C')]//li[14]//a[1]\").click()"
   ]
  },
  {
   "cell_type": "code",
   "execution_count": null,
   "metadata": {},
   "outputs": [],
   "source": []
  },
  {
   "cell_type": "code",
   "execution_count": null,
   "metadata": {},
   "outputs": [],
   "source": []
  },
  {
   "cell_type": "code",
   "execution_count": null,
   "metadata": {},
   "outputs": [],
   "source": []
  },
  {
   "cell_type": "code",
   "execution_count": 5,
   "metadata": {},
   "outputs": [
    {
     "name": "stderr",
     "output_type": "stream",
     "text": [
      "C:\\Users\\lin\\Anaconda3\\lib\\site-packages\\ipykernel_launcher.py:28: DeprecationWarning: use driver.switch_to.window instead\n"
     ]
    },
    {
     "name": "stdout",
     "output_type": "stream",
     "text": [
      "在評價頁面\n",
      "在賣東西\n",
      "在買東西\n",
      "在他人send\n"
     ]
    },
    {
     "name": "stderr",
     "output_type": "stream",
     "text": [
      "C:\\Users\\lin\\Anaconda3\\lib\\site-packages\\ipykernel_launcher.py:69: DeprecationWarning: use driver.switch_to.window instead\n"
     ]
    },
    {
     "name": "stdout",
     "output_type": "stream",
     "text": [
      "在評價頁面\n",
      "在賣東西\n",
      "在買東西\n",
      "在他人send\n",
      "在評價頁面\n",
      "在賣東西\n",
      "在買東西\n",
      "在他人send\n",
      "在評價頁面\n",
      "在賣東西\n",
      "在買東西\n",
      "在他人send\n"
     ]
    }
   ],
   "source": [
    "#試一個個點開賣家評價，成功!!\n",
    "chrome_path = \"./chromedriver.exe\" #chromedriver.exe執行檔所存在的路徑\n",
    "driver = webdriver.Chrome(chrome_path)\n",
    "driver.get(\"https://www.ruten.com.tw/\")\n",
    "\n",
    "list_ = [\"iphone充電線\"]\n",
    "for name_reach in list_ :\n",
    "    ### 搜尋名稱\n",
    "    driver.find_element_by_xpath(\"//input[@id='keyword']\").send_keys(name_reach)\n",
    "    ### 搜尋\n",
    "    driver.find_element_by_xpath(\"//input[@class='rt-header-search-submit']\").click()\n",
    "    \n",
    "    ### 切換顯示方式\n",
    "    driver.find_element_by_xpath(\"//a[contains(@class,'list')]\").click()\n",
    "    \n",
    "    \n",
    "    for next_page in range(1) :\n",
    "        for product in range(1,5) :\n",
    "\n",
    "            ### click each product\n",
    "            time.sleep(3)\n",
    "            driver.find_element_by_xpath(\n",
    "                \"/html[1]/body[1]/div[1]/div[2]/div[1]/div[1]/div[2]/div[3]/dl[1]/dd[1]/dl[{}]/dd[1]/div[1]/a[1]/img[1]\".format(product)).click()\n",
    "            \n",
    "            time.sleep(3)\n",
    "            ### switch to current page \n",
    "            hand = driver.window_handles\n",
    "\n",
    "            driver.switch_to_window(hand[1])\n",
    "            driver.find_element_by_xpath(\"//a[@class='rt-text-parentesis']\").click()\n",
    "            print('在評價頁面')\n",
    "            #load ID time 5 總表\n",
    "            time.sleep(2)\n",
    "            \n",
    "            driver.find_element_by_xpath(\"/html[1]/body[1]/div[1]/div[2]/table[8]/tbody[1]/tr[1]/td[1]/table[1]/tbody[1]/tr[1]/td[2]/table[1]/tbody[1]/tr[1]/td[2]/a[1]\").click()\n",
    "            print('在賣東西')\n",
    "            #總表\n",
    "            time.sleep(2)\n",
    "            \n",
    "            driver.find_element_by_xpath(\"/html[1]/body[1]/div[1]/div[2]/table[8]/tbody[1]/tr[1]/td[1]/table[1]/tbody[1]/tr[1]/td[3]/table[1]/tbody[1]/tr[1]/td[2]/a[1]\").click()\n",
    "            print('在買東西')\n",
    "            #總表\n",
    "            time.sleep(2)\n",
    "            \n",
    "            driver.find_element_by_xpath(\"/html[1]/body[1]/div[1]/div[2]/table[8]/tbody[1]/tr[1]/td[1]/table[1]/tbody[1]/tr[1]/td[4]/table[1]/tbody[1]/tr[1]/td[2]/a[1]\").click()\n",
    "            print('在他人send')\n",
    "            #總表\n",
    "            time.sleep(2)\n",
    "            \n",
    "            ##回上一頁，到產品頁\n",
    "            driver.back()\n",
    "                \n",
    "                \n",
    "                \n",
    "                \n",
    "                #html_re = requests.get(url, headers=headers, cookies=cookies)\n",
    "                #html_re.encoding = 'UTF-8'\n",
    "            #elem = driver.find_element_by_xpath(\"//*\")\n",
    "            #source_code = \n",
    "            \n",
    "            #page = driver.current_url\n",
    "            #page = Page(driver.current_url)\n",
    "            #soup = bs.BeautifulSoup(elem.get_attribute(\"outerHTML\"), 'html.parser')\n",
    "            ######################################\n",
    "            \n",
    "            \n",
    "            ######################################\n",
    "            driver.close()\n",
    "\n",
    "            driver.switch_to_window(hand[0])\n",
    "\n",
    "        \n",
    "        driver.find_element_by_xpath(\"//div[contains(@class,'block_C')]//li[14]//a[1]\").click()"
   ]
  },
  {
   "cell_type": "code",
   "execution_count": 99,
   "metadata": {},
   "outputs": [],
   "source": [
    "#存資料\n",
    "month = 1\n",
    "day = 14\n",
    "path = \"\\mydata\"\n",
    "item = ['name','image_num','productID','price','inventory','sell_num','seller_ID','reputation','QA', 'buyer_num','payment']\n",
    "\n",
    "if os.path.isdir(path):\n",
    "    os.makedirs(path)\n",
    "with open(f'{month}_{day}_ruten.csv','w', newline='') as csv_file:\n",
    "    writer=csv.writer(csv_file)\n",
    "    #變數名稱\n",
    "    writer.writerow(item)\n",
    "    #資料\n",
    "    for i in range(len(result[0])):\n",
    "        writer.writerow([result[j][i] for j in range(len(item))])"
   ]
  },
  {
   "cell_type": "code",
   "execution_count": 69,
   "metadata": {},
   "outputs": [
    {
     "name": "stdout",
     "output_type": "stream",
     "text": [
      "['費拉拉 西達摩果香日曬咖啡豆 一磅 限時下殺↘6折 加碼買一磅送一掛耳 手沖 防彈咖啡', '費拉拉 黃金 曼巴咖啡豆 一磅 限時下殺↘6折 加碼買一磅送一掛耳 手沖咖啡 防彈咖啡', '費拉拉 哥倫比亞薇拉水洗咖啡豆 一磅限時下殺↘6折加碼買一送一掛耳 手沖 防彈咖啡', '【費拉拉】 純粹防彈咖啡豆 一磅 無附椰子油  自然無毒農法白金級咖啡豆 新鮮烘焙 生酮飲食必備']\n"
     ]
    },
    {
     "data": {
      "text/plain": [
       "4"
      ]
     },
     "execution_count": 69,
     "metadata": {},
     "output_type": "execute_result"
    }
   ],
   "source": [
    "print(result[0])\n",
    "len(result[0])"
   ]
  }
 ],
 "metadata": {
  "kernelspec": {
   "display_name": "Python 3",
   "language": "python",
   "name": "python3"
  },
  "language_info": {
   "codemirror_mode": {
    "name": "ipython",
    "version": 3
   },
   "file_extension": ".py",
   "mimetype": "text/x-python",
   "name": "python",
   "nbconvert_exporter": "python",
   "pygments_lexer": "ipython3",
   "version": "3.7.4"
  }
 },
 "nbformat": 4,
 "nbformat_minor": 2
}
