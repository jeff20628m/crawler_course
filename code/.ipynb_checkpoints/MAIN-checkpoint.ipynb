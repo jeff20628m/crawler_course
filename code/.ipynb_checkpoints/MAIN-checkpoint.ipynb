{
 "cells": [
  {
   "cell_type": "code",
   "execution_count": 1,
   "metadata": {},
   "outputs": [],
   "source": [
    "from selenium import webdriver\n",
    "import bs4 as bs\n",
    "\n",
    "import sys\n",
    "import time\n",
    "import os\n",
    "import csv\n",
    "import re\n",
    "import pandas as pd\n",
    "import random"
   ]
  },
  {
   "cell_type": "code",
   "execution_count": 2,
   "metadata": {},
   "outputs": [
    {
     "name": "stdout",
     "output_type": "stream",
     "text": [
      "Now on page 0\n"
     ]
    },
    {
     "name": "stderr",
     "output_type": "stream",
     "text": [
      "C:\\Users\\lin\\Anaconda3\\lib\\site-packages\\ipykernel_launcher.py:35: DeprecationWarning: use driver.switch_to.window instead\n",
      "C:\\Users\\lin\\Anaconda3\\lib\\site-packages\\ipykernel_launcher.py:114: DeprecationWarning: use driver.switch_to.window instead\n"
     ]
    },
    {
     "name": "stdout",
     "output_type": "stream",
     "text": [
      "Now on page 1\n",
      "Now on page 2\n",
      "Now on page 3\n",
      "Now on page 4\n"
     ]
    },
    {
     "ename": "AttributeError",
     "evalue": "'NoneType' object has no attribute 'text'",
     "output_type": "error",
     "traceback": [
      "\u001b[1;31m---------------------------------------------------------------------------\u001b[0m",
      "\u001b[1;31mAttributeError\u001b[0m                            Traceback (most recent call last)",
      "\u001b[1;32m<ipython-input-2-3817c16391f3>\u001b[0m in \u001b[0;36m<module>\u001b[1;34m\u001b[0m\n\u001b[0;32m     43\u001b[0m             \u001b[1;31m######################################\u001b[0m\u001b[1;33m\u001b[0m\u001b[1;33m\u001b[0m\u001b[1;33m\u001b[0m\u001b[0m\n\u001b[0;32m     44\u001b[0m             \u001b[1;31m#產品名\u001b[0m\u001b[1;33m\u001b[0m\u001b[1;33m\u001b[0m\u001b[1;33m\u001b[0m\u001b[0m\n\u001b[1;32m---> 45\u001b[1;33m             \u001b[0mresult\u001b[0m\u001b[1;33m[\u001b[0m\u001b[1;36m0\u001b[0m\u001b[1;33m]\u001b[0m\u001b[1;33m.\u001b[0m\u001b[0mappend\u001b[0m\u001b[1;33m(\u001b[0m\u001b[0msoup\u001b[0m\u001b[1;33m.\u001b[0m\u001b[0mfind\u001b[0m\u001b[1;33m(\u001b[0m\u001b[1;34m'span'\u001b[0m\u001b[1;33m,\u001b[0m \u001b[0mclass_\u001b[0m\u001b[1;33m=\u001b[0m\u001b[1;34m'vmiddle'\u001b[0m\u001b[1;33m)\u001b[0m\u001b[1;33m.\u001b[0m\u001b[0mtext\u001b[0m\u001b[1;33m)\u001b[0m\u001b[1;33m\u001b[0m\u001b[1;33m\u001b[0m\u001b[0m\n\u001b[0m\u001b[0;32m     46\u001b[0m             \u001b[1;31m#圖片數\u001b[0m\u001b[1;33m\u001b[0m\u001b[1;33m\u001b[0m\u001b[1;33m\u001b[0m\u001b[0m\n\u001b[0;32m     47\u001b[0m             \u001b[0mimag\u001b[0m \u001b[1;33m=\u001b[0m \u001b[0msoup\u001b[0m\u001b[1;33m.\u001b[0m\u001b[0mfind\u001b[0m\u001b[1;33m(\u001b[0m\u001b[1;34m'ul'\u001b[0m\u001b[1;33m,\u001b[0m \u001b[0mclass_\u001b[0m\u001b[1;33m=\u001b[0m\u001b[1;34m'item-gallery-thumbnail-list js-img-list'\u001b[0m\u001b[1;33m)\u001b[0m\u001b[1;33m\u001b[0m\u001b[1;33m\u001b[0m\u001b[0m\n",
      "\u001b[1;31mAttributeError\u001b[0m: 'NoneType' object has no attribute 'text'"
     ]
    }
   ],
   "source": [
    "chrome_path = \"./chromedriver.exe\" #chromedriver.exe執行檔所存在的路徑\n",
    "driver = webdriver.Chrome(chrome_path)\n",
    "driver.get(\"https://www.ruten.com.tw/\")\n",
    "\n",
    "list_ = [\"iphone充電線\"]\n",
    "result = [[] for _ in range(20)]\n",
    "num_page = 5 #數字幾就到第幾頁\n",
    "num_product = 49 #最高到79，因為一頁有80筆資料 250筆 多久\n",
    "\n",
    "###  define 研究的產品 (罐頭)\n",
    "\n",
    "for name_reach in list_ :\n",
    "    ### 搜尋名稱\n",
    "    driver.find_element_by_xpath(\"//input[@id='keyword']\").send_keys(name_reach)\n",
    "    ### 搜尋\n",
    "    driver.find_element_by_xpath(\"//input[@class='rt-header-search-submit']\").click()\n",
    "    \n",
    "    ### 切換顯示方式\n",
    "    driver.find_element_by_xpath(\"//a[contains(@class,'list')]\").click()\n",
    "    \n",
    "    for next_page in range(num_page) :\n",
    "        print(f\"Now on page {next_page}\")\n",
    "        time.sleep(random.uniform(2,3))\n",
    "        for product in range(1,num_product + 1) :\n",
    "\n",
    "            ### click each product\n",
    "            time.sleep(3)\n",
    "            driver.find_element_by_xpath(\n",
    "                \"/html[1]/body[1]/div[1]/div[2]/div[1]/div[1]/div[2]/div[3]/dl[1]/dd[1]/dl[{}]/dd[1]/div[1]/a[1]/img[1]\".format(product)).click()\n",
    "            \n",
    "            time.sleep(3)\n",
    "            ### switch to current page \n",
    "            hand = driver.window_handles\n",
    "\n",
    "            driver.switch_to_window(hand[1])\n",
    "            \n",
    "            elem = driver.find_element_by_xpath(\"//*\")\n",
    "            #source_code = \n",
    "            \n",
    "            #page = driver.current_url\n",
    "            #page = Page(driver.current_url)\n",
    "            soup = bs.BeautifulSoup(elem.get_attribute(\"outerHTML\"), 'html.parser')\n",
    "            ######################################\n",
    "            #產品名\n",
    "            result[0].append(soup.find('span', class_='vmiddle').text)\n",
    "            #圖片數\n",
    "            imag = soup.find('ul', class_='item-gallery-thumbnail-list js-img-list')\n",
    "            result[1].append(len (imag))\n",
    "            #商品編號\n",
    "            result[2].append(soup.find('span', class_='content').text)\n",
    "            #直購價\n",
    "            result[3].append(soup.find('strong', class_ = \"rt-text-xx-large\").text)\n",
    "            #庫存\n",
    "            result[4].append(soup.find('strong', class_=\"rt-text-isolated\").text)\n",
    "            #已賣數量 \n",
    "            sell_num = soup.find('strong', class_='rt-text-x-large number')\n",
    "            if sell_num != None:\n",
    "                result[5].append(sell_num.text)\n",
    "            else:\n",
    "                result[5].append('0')\n",
    "            #賣家!!\n",
    "            se = soup.find('div', class_='seller-disc')\n",
    "            seller_ID =  [s for s in se.stripped_strings][0]\n",
    "            result[6].append(seller_ID)\n",
    "            #評價!!\n",
    "            reputation =  [s for s in se.stripped_strings][1]\n",
    "            result[7].append(reputation)\n",
    "            #問與答\n",
    "            q = soup.find_all('span', class_ ='rt-text-parentesis count')\n",
    "            QA = [qa for qa in q][0]\n",
    "            result[8].append(QA.text)\n",
    "            #購買人次\n",
    "            buyer_num = [qa for qa in q][1]\n",
    "            result[9].append(buyer_num.text)\n",
    "     ###### #payment\n",
    "            result[10].append(list(map(lambda x: x.text, soup.find_all('span', class_='vmiddle'))))\n",
    "            #status\n",
    "            result[11].append(soup.find('li', class_='status').text)\n",
    "            #location\n",
    "            result[12].append(soup.find('li', class_='location').text)\n",
    "            #upload_time\n",
    "            result[13].append(soup.find('li', class_='upload-time').text)\n",
    "            #買家限制\n",
    "            limitation = soup.find('li', class_=\"limitation\")\n",
    "            if limitation != None:\n",
    "                result[14].append(limitation.find('span').text)\n",
    "            else:\n",
    "                result[14].append(\"0\")\n",
    "            #result[11].append(limitbuy(soup))\n",
    "            #result[11].append((soup.find('li', class_=\"limitation\")).text if limit != None else 'NA')\n",
    "            #result[11].append(remain.text if remain != None else 'NA')\n",
    "            #start_price\n",
    "            result[15].append(soup.find('li', class_=\"initiation\").find('span').text)\n",
    "            #end\n",
    "            result[16].append(soup.find('li', class_=\"putforward\").text)\n",
    "     ###### #delivery\n",
    "            tmp = []\n",
    "            for ele in map(lambda x: x.text.split('\\n'), soup.find_all('ul', class_='detail-list')):\n",
    "                tmp += ele\n",
    "            result[17].append(list(filter(lambda x: len(x) > 0, map(lambda x: x.lstrip().rstrip(), tmp))))\n",
    "            #all_sell_num\n",
    "            result[18].append(soup.find('p', class_=\"seller-disc seller-disc-divider\").find('strong').text)\n",
    "            #update_time\n",
    "            update_time = soup.find('span', class_=\"date\")\n",
    "            if update_time != None:\n",
    "                result[19].append(update_time.text)\n",
    "            else:\n",
    "                result[19].append(\"0\")\n",
    "          \n",
    "\n",
    "            ######################################\n",
    "            driver.close()\n",
    "\n",
    "            driver.switch_to_window(hand[0])\n",
    "\n",
    "        \n",
    "        driver.find_element_by_xpath(\"//div[contains(@class,'block_C')]//li[14]//a[1]\").click()"
   ]
  },
  {
   "cell_type": "code",
   "execution_count": 3,
   "metadata": {},
   "outputs": [],
   "source": [
    "month = 1\n",
    "day = 17\n",
    "path = \"\\mydata\"\n",
    "item = ['name','image_num','productID','price','inventory','sell_num','seller_ID','reputation','QA', 'buyer_num','payment','status','location','upload-time','buylimit','start_price','end','delivery','all_sell_num','update-time']\n",
    "\n",
    "if os.path.isdir(path):\n",
    "    os.makedirs(path)\n",
    "with open(f'{month}_{day}_ruten.csv','w', newline='',encoding='utf-8') as csv_file:\n",
    "    writer=csv.writer(csv_file)\n",
    "    #變數名稱\n",
    "    writer.writerow(item)\n",
    "    #資料\n",
    "    for i in range(len(result[0])):\n",
    "        writer.writerow([result[j][i] for j in range(len(item))])"
   ]
  },
  {
   "cell_type": "code",
   "execution_count": 4,
   "metadata": {},
   "outputs": [
    {
     "name": "stdout",
     "output_type": "stream",
     "text": [
      "[['保證 最高規 iPhone 11 X 8 7 6 充電線 傳輸線 for iPhone iPad 線 快充線 保固一年', '支援付款快手', 'Pi 拍錢包X支付連', 'PChomePay支付連 信用卡', 'PChomePay支付連 現金 (ATM、餘額、銀行支付)', '7-11取貨付款', '全家、OK、萊爾富取貨付款', '銀行或郵局轉帳', '郵局無摺存款', '貨到付款', '面交取貨付款', '喜歡這商品嗎?按讚及+1推薦給你的朋友吧！'], ['MCDODO QC4.0 iPhone TypeC 快充線 捲線 彈簧線 180cm 快速充電 編織線 車用充電線', '支援付款快手', 'Pi 拍錢包X支付連', 'PChomePay支付連 信用卡', 'PChomePay支付連 現金 (ATM、餘額、銀行支付)', '7-11取貨付款', '全家、OK、萊爾富取貨付款', '銀行或郵局轉帳', '郵局無摺存款', '喜歡這商品嗎?按讚及+1推薦給你的朋友吧！'], ['【防止過充！自動斷電充電線】蘋果專用 編織不打結 iphone 充電線 快充2.4A lightning', '支援付款快手', 'Pi 拍錢包X支付連', 'PChomePay支付連 信用卡', '', 'PChomePay支付連 現金 (ATM、餘額、銀行支付)', '7-11取貨付款', '全家、OK、萊爾富取貨付款', '銀行或郵局轉帳', '郵局無摺存款', '貨到付款', '面交取貨付款', '喜歡這商品嗎?按讚及+1推薦給你的朋友吧！'], ['蘋果 Apple快充【PD+QC3.0快充組】mcdodo 麥多多 28W快充頭+快充線 iPhone充電線 PD 快充', '賣家保固 ', '專櫃正品 ', '可開收據 ', '附保證書 ', '有多種尺寸 ', '支援付款快手', 'Pi 拍錢包X支付連', 'PChomePay支付連 信用卡', '', 'PChomePay支付連 現金 (ATM、餘額、銀行支付)', 'PChome國際連儲值餘額', '郵局快捷貨到付款', '7-11取貨付款', '全家、OK、萊爾富取貨付款', '宅急便「黑貓PAY貨到付款」', '銀行或郵局轉帳', '郵局無摺存款', '喜歡這商品嗎?按讚及+1推薦給你的朋友吧！']]\n"
     ]
    },
    {
     "data": {
      "text/plain": [
       "20"
      ]
     },
     "execution_count": 4,
     "metadata": {},
     "output_type": "execute_result"
    }
   ],
   "source": [
    "print(result[10])\n",
    "len(result)"
   ]
  },
  {
   "cell_type": "code",
   "execution_count": null,
   "metadata": {},
   "outputs": [],
   "source": []
  }
 ],
 "metadata": {
  "kernelspec": {
   "display_name": "Python 3",
   "language": "python",
   "name": "python3"
  },
  "language_info": {
   "codemirror_mode": {
    "name": "ipython",
    "version": 3
   },
   "file_extension": ".py",
   "mimetype": "text/x-python",
   "name": "python",
   "nbconvert_exporter": "python",
   "pygments_lexer": "ipython3",
   "version": "3.7.4"
  },
  "toc": {
   "base_numbering": 1,
   "nav_menu": {},
   "number_sections": true,
   "sideBar": true,
   "skip_h1_title": false,
   "title_cell": "Table of Contents",
   "title_sidebar": "Contents",
   "toc_cell": false,
   "toc_position": {},
   "toc_section_display": true,
   "toc_window_display": false
  },
  "varInspector": {
   "cols": {
    "lenName": 16,
    "lenType": 16,
    "lenVar": 40
   },
   "kernels_config": {
    "python": {
     "delete_cmd_postfix": "",
     "delete_cmd_prefix": "del ",
     "library": "var_list.py",
     "varRefreshCmd": "print(var_dic_list())"
    },
    "r": {
     "delete_cmd_postfix": ") ",
     "delete_cmd_prefix": "rm(",
     "library": "var_list.r",
     "varRefreshCmd": "cat(var_dic_list()) "
    }
   },
   "types_to_exclude": [
    "module",
    "function",
    "builtin_function_or_method",
    "instance",
    "_Feature"
   ],
   "window_display": false
  }
 },
 "nbformat": 4,
 "nbformat_minor": 2
}
