{
 "cells": [
  {
   "cell_type": "code",
   "execution_count": 1,
   "metadata": {
    "ExecuteTime": {
     "end_time": "2020-01-18T08:33:21.703644Z",
     "start_time": "2020-01-18T08:33:21.215899Z"
    }
   },
   "outputs": [],
   "source": [
    "from selenium import webdriver\n",
    "import bs4 as bs\n",
    "from bs4 import BeautifulSoup\n",
    "import sys\n",
    "import time\n",
    "import os\n",
    "import csv\n",
    "import re\n",
    "import pandas as pd\n",
    "import random"
   ]
  },
  {
   "cell_type": "code",
   "execution_count": 2,
   "metadata": {
    "ExecuteTime": {
     "end_time": "2020-01-18T08:34:00.882664Z",
     "start_time": "2020-01-18T08:33:26.567657Z"
    }
   },
   "outputs": [
    {
     "name": "stderr",
     "output_type": "stream",
     "text": [
      "ERROR:root:Internal Python error in the inspect module.\n",
      "Below is the traceback from this internal error.\n",
      "\n"
     ]
    },
    {
     "name": "stdout",
     "output_type": "stream",
     "text": [
      "Traceback (most recent call last):\n",
      "  File \"C:\\Users\\USER\\Anaconda3\\lib\\site-packages\\IPython\\core\\interactiveshell.py\", line 3326, in run_code\n",
      "    exec(code_obj, self.user_global_ns, self.user_ns)\n",
      "  File \"<ipython-input-2-7a6b08eb2805>\", line 29, in <module>\n",
      "    time.sleep(random.uniform(3,4))\n",
      "KeyboardInterrupt\n",
      "\n",
      "During handling of the above exception, another exception occurred:\n",
      "\n",
      "Traceback (most recent call last):\n",
      "  File \"C:\\Users\\USER\\Anaconda3\\lib\\site-packages\\IPython\\core\\interactiveshell.py\", line 2040, in showtraceback\n",
      "    stb = value._render_traceback_()\n",
      "AttributeError: 'KeyboardInterrupt' object has no attribute '_render_traceback_'\n",
      "\n",
      "During handling of the above exception, another exception occurred:\n",
      "\n",
      "Traceback (most recent call last):\n",
      "  File \"C:\\Users\\USER\\Anaconda3\\lib\\site-packages\\IPython\\core\\ultratb.py\", line 1101, in get_records\n",
      "    return _fixed_getinnerframes(etb, number_of_lines_of_context, tb_offset)\n",
      "  File \"C:\\Users\\USER\\Anaconda3\\lib\\site-packages\\IPython\\core\\ultratb.py\", line 319, in wrapped\n",
      "    return f(*args, **kwargs)\n",
      "  File \"C:\\Users\\USER\\Anaconda3\\lib\\site-packages\\IPython\\core\\ultratb.py\", line 353, in _fixed_getinnerframes\n",
      "    records = fix_frame_records_filenames(inspect.getinnerframes(etb, context))\n",
      "  File \"C:\\Users\\USER\\Anaconda3\\lib\\inspect.py\", line 1502, in getinnerframes\n",
      "    frameinfo = (tb.tb_frame,) + getframeinfo(tb, context)\n",
      "  File \"C:\\Users\\USER\\Anaconda3\\lib\\inspect.py\", line 1460, in getframeinfo\n",
      "    filename = getsourcefile(frame) or getfile(frame)\n",
      "  File \"C:\\Users\\USER\\Anaconda3\\lib\\inspect.py\", line 696, in getsourcefile\n",
      "    if getattr(getmodule(object, filename), '__loader__', None) is not None:\n",
      "  File \"C:\\Users\\USER\\Anaconda3\\lib\\inspect.py\", line 739, in getmodule\n",
      "    f = getabsfile(module)\n",
      "  File \"C:\\Users\\USER\\Anaconda3\\lib\\inspect.py\", line 708, in getabsfile\n",
      "    _filename = getsourcefile(object) or getfile(object)\n",
      "  File \"C:\\Users\\USER\\Anaconda3\\lib\\inspect.py\", line 693, in getsourcefile\n",
      "    if os.path.exists(filename):\n",
      "  File \"C:\\Users\\USER\\Anaconda3\\lib\\genericpath.py\", line 19, in exists\n",
      "    os.stat(path)\n",
      "KeyboardInterrupt\n"
     ]
    },
    {
     "ename": "KeyboardInterrupt",
     "evalue": "",
     "output_type": "error",
     "traceback": [
      "\u001b[1;31m---------------------------------------------------------------------------\u001b[0m"
     ]
    }
   ],
   "source": [
    "df = pd.DataFrame()\n",
    "df_total = pd.DataFrame()\n",
    "\n",
    "chrome_path = \"./chromedriver.exe\" #chromedriver.exe執行檔所存在的路徑\n",
    "driver = webdriver.Chrome(chrome_path)\n",
    "driver.get(\"https://www.ruten.com.tw/\")\n",
    "\n",
    "name_reach = \"iphone充電線\"\n",
    "num_page = 6 #目標頁少一頁\n",
    "num_product = 80\n",
    "\n",
    "###  define 研究的產品 (罐頭)\n",
    "\n",
    "    ### 搜尋名稱\n",
    "driver.find_element_by_xpath(\"//input[@id='keyword']\").send_keys(name_reach)\n",
    "    ### 搜尋\n",
    "driver.find_element_by_xpath(\"//input[@class='rt-header-search-submit']\").click()\n",
    "    \n",
    "    ### 切換顯示方式\n",
    "driver.find_element_by_xpath(\"//a[contains(@class,'list')]\").click()\n",
    "    \n",
    "    \n",
    "    \n",
    "for pag in range(num_page-1) :\n",
    "    \n",
    "    url = driver.current_url\n",
    "    \n",
    "    ########################## 抓\n",
    "    time.sleep(random.uniform(3,4))\n",
    "    page_source = driver.page_source\n",
    "    soup = BeautifulSoup(page_source, 'html.parser')\n",
    "    \n",
    "    \n",
    "    \n",
    "    \n",
    "    Trace_num = []\n",
    "    sale_num = []\n",
    "    RY = []\n",
    "    ID = []\n",
    "    AD = []\n",
    "\n",
    "    \n",
    "    \n",
    "    for pro in range(len(soup.find_all(class_ = \"col3f\"))):\n",
    "\n",
    "        #sale_num\n",
    "        try : \n",
    "            sale_num.append(int(soup.find_all(class_ = \"col3f\")[pro].find(class_ = \"note\").text.replace('銷售','')))\n",
    "        except :\n",
    "            sale_num.append('0')\n",
    "        \n",
    "        \n",
    "        \n",
    "        \n",
    "        \n",
    "        #紅黃框       \n",
    "        RY.append((soup.find_all('dl','col3f')[pro].get('class')))\n",
    "        \n",
    "        #商品ID\n",
    "        ID.append((soup.find_all('dl','col3f')[pro].get('_id')))\n",
    "    \n",
    "        #紅黃框   \n",
    "        #for a in soup.find_all('dl','col3f'):\n",
    "            #RY.append(a.get('class'))\n",
    "            \n",
    "        #商品ID\n",
    "        #for a in soup.find_all('dl','col3f'):\n",
    "            #ID.append(a.get('_id'))\n",
    "    \n",
    "    #追蹤人數\n",
    "    if len(soup.find_all(title = re.compile('已有'))) > 80 :\n",
    "        Trace_num = list(map(lambda x : x.text ,soup.find_all(title = re.compile('已有'))))[:80]\n",
    "    else :\n",
    "        Trace_num = list(map(lambda x : x.text ,soup.find_all(title = re.compile('已有'))))\n",
    "    #廣告\n",
    "    if len(soup.find_all(title = re.compile('已有'))) > 80 :\n",
    "        AD = list(map(lambda x : x.text ,soup.find_all('span', class_='ads_tag')))[:num_product]\n",
    "    else :\n",
    "        AD = list(map(lambda x : x.text ,soup.find_all('span', class_='ads_tag')))\n",
    "    ##########################\n",
    "    df['ID'] = ID\n",
    "    df['sale_num'] = sale_num\n",
    "    df['AD'] = AD\n",
    "    df['RY'] = RY\n",
    "    df['Trace_num'] = Trace_num\n",
    "    df['page'] = pag +1 \n",
    "    \n",
    "    \n",
    "    df_total = pd.concat([df_total,df])\n",
    "    \n",
    "    \n",
    "    driver.find_element_by_xpath(\"//ul[@class='pages']//li[@class='next']//a\").click()"
   ]
  },
  {
   "cell_type": "code",
   "execution_count": 3,
   "metadata": {
    "ExecuteTime": {
     "end_time": "2020-01-18T08:34:09.875766Z",
     "start_time": "2020-01-18T08:34:09.859788Z"
    }
   },
   "outputs": [
    {
     "data": {
      "text/html": [
       "<div>\n",
       "<style scoped>\n",
       "    .dataframe tbody tr th:only-of-type {\n",
       "        vertical-align: middle;\n",
       "    }\n",
       "\n",
       "    .dataframe tbody tr th {\n",
       "        vertical-align: top;\n",
       "    }\n",
       "\n",
       "    .dataframe thead th {\n",
       "        text-align: right;\n",
       "    }\n",
       "</style>\n",
       "<table border=\"1\" class=\"dataframe\">\n",
       "  <thead>\n",
       "    <tr style=\"text-align: right;\">\n",
       "      <th></th>\n",
       "      <th>ID</th>\n",
       "      <th>sale_num</th>\n",
       "      <th>AD</th>\n",
       "      <th>RY</th>\n",
       "      <th>Trace_num</th>\n",
       "      <th>page</th>\n",
       "    </tr>\n",
       "  </thead>\n",
       "  <tbody>\n",
       "    <tr>\n",
       "      <td>0</td>\n",
       "      <td>21306013652122</td>\n",
       "      <td>37126</td>\n",
       "      <td>廣告</td>\n",
       "      <td>[col3f, s_shining, isImpress, isImpressTs]</td>\n",
       "      <td>590</td>\n",
       "      <td>1</td>\n",
       "    </tr>\n",
       "    <tr>\n",
       "      <td>1</td>\n",
       "      <td>21919391256750</td>\n",
       "      <td>4302</td>\n",
       "      <td>廣告</td>\n",
       "      <td>[col3f, isImpress, isImpressTs]</td>\n",
       "      <td>41</td>\n",
       "      <td>1</td>\n",
       "    </tr>\n",
       "    <tr>\n",
       "      <td>2</td>\n",
       "      <td>21904684329839</td>\n",
       "      <td>1604</td>\n",
       "      <td>廣告</td>\n",
       "      <td>[col3f, isImpress, isImpressTs]</td>\n",
       "      <td>224</td>\n",
       "      <td>1</td>\n",
       "    </tr>\n",
       "    <tr>\n",
       "      <td>3</td>\n",
       "      <td>21707288442128</td>\n",
       "      <td>111</td>\n",
       "      <td>廣告</td>\n",
       "      <td>[col3f]</td>\n",
       "      <td>56</td>\n",
       "      <td>1</td>\n",
       "    </tr>\n",
       "    <tr>\n",
       "      <td>4</td>\n",
       "      <td>21807687309214</td>\n",
       "      <td>14568</td>\n",
       "      <td>廣告</td>\n",
       "      <td>[col3f, s_shining]</td>\n",
       "      <td>4799</td>\n",
       "      <td>1</td>\n",
       "    </tr>\n",
       "    <tr>\n",
       "      <td>...</td>\n",
       "      <td>...</td>\n",
       "      <td>...</td>\n",
       "      <td>...</td>\n",
       "      <td>...</td>\n",
       "      <td>...</td>\n",
       "      <td>...</td>\n",
       "    </tr>\n",
       "    <tr>\n",
       "      <td>75</td>\n",
       "      <td>21748376075932</td>\n",
       "      <td>169</td>\n",
       "      <td></td>\n",
       "      <td>[col3f]</td>\n",
       "      <td>71</td>\n",
       "      <td>2</td>\n",
       "    </tr>\n",
       "    <tr>\n",
       "      <td>76</td>\n",
       "      <td>21845922034606</td>\n",
       "      <td>8</td>\n",
       "      <td></td>\n",
       "      <td>[col3f]</td>\n",
       "      <td>2</td>\n",
       "      <td>2</td>\n",
       "    </tr>\n",
       "    <tr>\n",
       "      <td>77</td>\n",
       "      <td>21825228010887</td>\n",
       "      <td>1</td>\n",
       "      <td></td>\n",
       "      <td>[col3f]</td>\n",
       "      <td>0</td>\n",
       "      <td>2</td>\n",
       "    </tr>\n",
       "    <tr>\n",
       "      <td>78</td>\n",
       "      <td>21952109135200</td>\n",
       "      <td>1</td>\n",
       "      <td></td>\n",
       "      <td>[col3f]</td>\n",
       "      <td>0</td>\n",
       "      <td>2</td>\n",
       "    </tr>\n",
       "    <tr>\n",
       "      <td>79</td>\n",
       "      <td>21811763009356</td>\n",
       "      <td>1</td>\n",
       "      <td></td>\n",
       "      <td>[col3f]</td>\n",
       "      <td>0</td>\n",
       "      <td>2</td>\n",
       "    </tr>\n",
       "  </tbody>\n",
       "</table>\n",
       "<p>160 rows × 6 columns</p>\n",
       "</div>"
      ],
      "text/plain": [
       "                ID sale_num  AD                                          RY  \\\n",
       "0   21306013652122    37126  廣告  [col3f, s_shining, isImpress, isImpressTs]   \n",
       "1   21919391256750     4302  廣告             [col3f, isImpress, isImpressTs]   \n",
       "2   21904684329839     1604  廣告             [col3f, isImpress, isImpressTs]   \n",
       "3   21707288442128      111  廣告                                     [col3f]   \n",
       "4   21807687309214    14568  廣告                          [col3f, s_shining]   \n",
       "..             ...      ...  ..                                         ...   \n",
       "75  21748376075932      169                                         [col3f]   \n",
       "76  21845922034606        8                                         [col3f]   \n",
       "77  21825228010887        1                                         [col3f]   \n",
       "78  21952109135200        1                                         [col3f]   \n",
       "79  21811763009356        1                                         [col3f]   \n",
       "\n",
       "   Trace_num  page  \n",
       "0        590     1  \n",
       "1         41     1  \n",
       "2        224     1  \n",
       "3         56     1  \n",
       "4       4799     1  \n",
       "..       ...   ...  \n",
       "75        71     2  \n",
       "76         2     2  \n",
       "77         0     2  \n",
       "78         0     2  \n",
       "79         0     2  \n",
       "\n",
       "[160 rows x 6 columns]"
      ]
     },
     "execution_count": 3,
     "metadata": {},
     "output_type": "execute_result"
    }
   ],
   "source": [
    "df_total"
   ]
  },
  {
   "cell_type": "code",
   "execution_count": 4,
   "metadata": {
    "ExecuteTime": {
     "end_time": "2020-01-18T08:34:45.963564Z",
     "start_time": "2020-01-18T08:34:45.960572Z"
    }
   },
   "outputs": [],
   "source": [
    "product_url = []"
   ]
  },
  {
   "cell_type": "code",
   "execution_count": 5,
   "metadata": {
    "ExecuteTime": {
     "end_time": "2020-01-18T08:35:17.456186Z",
     "start_time": "2020-01-18T08:35:17.375395Z"
    }
   },
   "outputs": [
    {
     "ename": "KeyError",
     "evalue": "\"None of [Index(['21917114660446', '21948952342975', '21917114767466', '21925787668269',\\n       '21932361960901', '21311145795616', '21301274800963', '21909976517567',\\n       '21946858689398', '21936668102318', '21851254216175', '21401240628088',\\n       '21914677243411', '21910076532691', '21212258741331', '21912378550182',\\n       '21750430437679', '21834531959459', '21949014504920', '21913485372948',\\n       '21944652845561', '21921523312663', '21901443418760', '21943618669566',\\n       '21947879464102', '21305144042354', '21841771563511', '21744289046478',\\n       '21851254216175', '21929132588088', '21923621845058', '21842800123887',\\n       '21927969882889', '21832455331096', '21949988489146', '21844893480045',\\n       '21212185209542', '21310233817753', '21830396618760', '21917175267200',\\n       '21948952391890', '21938948076412', '21803602135629', '21912313108595',\\n       '21932383700480', '21943564641151', '21836590529448', '21846001614036',\\n       '21949983325320', '21611125564655', '21936680545830', '21916905957037',\\n       '21842801697222', '21713639316248', '21833483909213', '21921523215564',\\n       '21907796642025', '21308291879932', '21827310731757', '21929132588088',\\n       '21816904295681', '21949988470438', '21902545463225', '21836610526235',\\n       '21445664507576', '21833497836969', '21721353507062', '21917175474772',\\n       '21909044150498', '21936668102318', '21843856344604', '21912378550182',\\n       '21911204841700', '21511638715448', '21926882749480', '21748376075932',\\n       '21845922034606', '21825228010887', '21952109135200', '21811763009356'],\\n      dtype='object')] are in the [columns]\"",
     "output_type": "error",
     "traceback": [
      "\u001b[1;31m---------------------------------------------------------------------------\u001b[0m",
      "\u001b[1;31mKeyError\u001b[0m                                  Traceback (most recent call last)",
      "\u001b[1;32m<ipython-input-5-332b5d262c27>\u001b[0m in \u001b[0;36m<module>\u001b[1;34m\u001b[0m\n\u001b[1;32m----> 1\u001b[1;33m \u001b[0mproduct_url\u001b[0m \u001b[1;33m=\u001b[0m \u001b[1;34m'https://goods.ruten.com.tw/item/show?'\u001b[0m \u001b[1;33m+\u001b[0m \u001b[0mstr\u001b[0m\u001b[1;33m(\u001b[0m\u001b[0mdf_total\u001b[0m\u001b[1;33m[\u001b[0m\u001b[0mID\u001b[0m\u001b[1;33m]\u001b[0m\u001b[1;33m)\u001b[0m\u001b[1;33m\u001b[0m\u001b[1;33m\u001b[0m\u001b[0m\n\u001b[0m",
      "\u001b[1;32m~\\Anaconda3\\lib\\site-packages\\pandas\\core\\frame.py\u001b[0m in \u001b[0;36m__getitem__\u001b[1;34m(self, key)\u001b[0m\n\u001b[0;32m   2984\u001b[0m             \u001b[1;32mif\u001b[0m \u001b[0mis_iterator\u001b[0m\u001b[1;33m(\u001b[0m\u001b[0mkey\u001b[0m\u001b[1;33m)\u001b[0m\u001b[1;33m:\u001b[0m\u001b[1;33m\u001b[0m\u001b[1;33m\u001b[0m\u001b[0m\n\u001b[0;32m   2985\u001b[0m                 \u001b[0mkey\u001b[0m \u001b[1;33m=\u001b[0m \u001b[0mlist\u001b[0m\u001b[1;33m(\u001b[0m\u001b[0mkey\u001b[0m\u001b[1;33m)\u001b[0m\u001b[1;33m\u001b[0m\u001b[1;33m\u001b[0m\u001b[0m\n\u001b[1;32m-> 2986\u001b[1;33m             \u001b[0mindexer\u001b[0m \u001b[1;33m=\u001b[0m \u001b[0mself\u001b[0m\u001b[1;33m.\u001b[0m\u001b[0mloc\u001b[0m\u001b[1;33m.\u001b[0m\u001b[0m_convert_to_indexer\u001b[0m\u001b[1;33m(\u001b[0m\u001b[0mkey\u001b[0m\u001b[1;33m,\u001b[0m \u001b[0maxis\u001b[0m\u001b[1;33m=\u001b[0m\u001b[1;36m1\u001b[0m\u001b[1;33m,\u001b[0m \u001b[0mraise_missing\u001b[0m\u001b[1;33m=\u001b[0m\u001b[1;32mTrue\u001b[0m\u001b[1;33m)\u001b[0m\u001b[1;33m\u001b[0m\u001b[1;33m\u001b[0m\u001b[0m\n\u001b[0m\u001b[0;32m   2987\u001b[0m \u001b[1;33m\u001b[0m\u001b[0m\n\u001b[0;32m   2988\u001b[0m         \u001b[1;31m# take() does not accept boolean indexers\u001b[0m\u001b[1;33m\u001b[0m\u001b[1;33m\u001b[0m\u001b[1;33m\u001b[0m\u001b[0m\n",
      "\u001b[1;32m~\\Anaconda3\\lib\\site-packages\\pandas\\core\\indexing.py\u001b[0m in \u001b[0;36m_convert_to_indexer\u001b[1;34m(self, obj, axis, is_setter, raise_missing)\u001b[0m\n\u001b[0;32m   1283\u001b[0m                 \u001b[1;31m# When setting, missing keys are not allowed, even with .loc:\u001b[0m\u001b[1;33m\u001b[0m\u001b[1;33m\u001b[0m\u001b[1;33m\u001b[0m\u001b[0m\n\u001b[0;32m   1284\u001b[0m                 \u001b[0mkwargs\u001b[0m \u001b[1;33m=\u001b[0m \u001b[1;33m{\u001b[0m\u001b[1;34m\"raise_missing\"\u001b[0m\u001b[1;33m:\u001b[0m \u001b[1;32mTrue\u001b[0m \u001b[1;32mif\u001b[0m \u001b[0mis_setter\u001b[0m \u001b[1;32melse\u001b[0m \u001b[0mraise_missing\u001b[0m\u001b[1;33m}\u001b[0m\u001b[1;33m\u001b[0m\u001b[1;33m\u001b[0m\u001b[0m\n\u001b[1;32m-> 1285\u001b[1;33m                 \u001b[1;32mreturn\u001b[0m \u001b[0mself\u001b[0m\u001b[1;33m.\u001b[0m\u001b[0m_get_listlike_indexer\u001b[0m\u001b[1;33m(\u001b[0m\u001b[0mobj\u001b[0m\u001b[1;33m,\u001b[0m \u001b[0maxis\u001b[0m\u001b[1;33m,\u001b[0m \u001b[1;33m**\u001b[0m\u001b[0mkwargs\u001b[0m\u001b[1;33m)\u001b[0m\u001b[1;33m[\u001b[0m\u001b[1;36m1\u001b[0m\u001b[1;33m]\u001b[0m\u001b[1;33m\u001b[0m\u001b[1;33m\u001b[0m\u001b[0m\n\u001b[0m\u001b[0;32m   1286\u001b[0m         \u001b[1;32melse\u001b[0m\u001b[1;33m:\u001b[0m\u001b[1;33m\u001b[0m\u001b[1;33m\u001b[0m\u001b[0m\n\u001b[0;32m   1287\u001b[0m             \u001b[1;32mtry\u001b[0m\u001b[1;33m:\u001b[0m\u001b[1;33m\u001b[0m\u001b[1;33m\u001b[0m\u001b[0m\n",
      "\u001b[1;32m~\\Anaconda3\\lib\\site-packages\\pandas\\core\\indexing.py\u001b[0m in \u001b[0;36m_get_listlike_indexer\u001b[1;34m(self, key, axis, raise_missing)\u001b[0m\n\u001b[0;32m   1090\u001b[0m \u001b[1;33m\u001b[0m\u001b[0m\n\u001b[0;32m   1091\u001b[0m         self._validate_read_indexer(\n\u001b[1;32m-> 1092\u001b[1;33m             \u001b[0mkeyarr\u001b[0m\u001b[1;33m,\u001b[0m \u001b[0mindexer\u001b[0m\u001b[1;33m,\u001b[0m \u001b[0mo\u001b[0m\u001b[1;33m.\u001b[0m\u001b[0m_get_axis_number\u001b[0m\u001b[1;33m(\u001b[0m\u001b[0maxis\u001b[0m\u001b[1;33m)\u001b[0m\u001b[1;33m,\u001b[0m \u001b[0mraise_missing\u001b[0m\u001b[1;33m=\u001b[0m\u001b[0mraise_missing\u001b[0m\u001b[1;33m\u001b[0m\u001b[1;33m\u001b[0m\u001b[0m\n\u001b[0m\u001b[0;32m   1093\u001b[0m         )\n\u001b[0;32m   1094\u001b[0m         \u001b[1;32mreturn\u001b[0m \u001b[0mkeyarr\u001b[0m\u001b[1;33m,\u001b[0m \u001b[0mindexer\u001b[0m\u001b[1;33m\u001b[0m\u001b[1;33m\u001b[0m\u001b[0m\n",
      "\u001b[1;32m~\\Anaconda3\\lib\\site-packages\\pandas\\core\\indexing.py\u001b[0m in \u001b[0;36m_validate_read_indexer\u001b[1;34m(self, key, indexer, axis, raise_missing)\u001b[0m\n\u001b[0;32m   1175\u001b[0m                 raise KeyError(\n\u001b[0;32m   1176\u001b[0m                     \"None of [{key}] are in the [{axis}]\".format(\n\u001b[1;32m-> 1177\u001b[1;33m                         \u001b[0mkey\u001b[0m\u001b[1;33m=\u001b[0m\u001b[0mkey\u001b[0m\u001b[1;33m,\u001b[0m \u001b[0maxis\u001b[0m\u001b[1;33m=\u001b[0m\u001b[0mself\u001b[0m\u001b[1;33m.\u001b[0m\u001b[0mobj\u001b[0m\u001b[1;33m.\u001b[0m\u001b[0m_get_axis_name\u001b[0m\u001b[1;33m(\u001b[0m\u001b[0maxis\u001b[0m\u001b[1;33m)\u001b[0m\u001b[1;33m\u001b[0m\u001b[1;33m\u001b[0m\u001b[0m\n\u001b[0m\u001b[0;32m   1178\u001b[0m                     )\n\u001b[0;32m   1179\u001b[0m                 )\n",
      "\u001b[1;31mKeyError\u001b[0m: \"None of [Index(['21917114660446', '21948952342975', '21917114767466', '21925787668269',\\n       '21932361960901', '21311145795616', '21301274800963', '21909976517567',\\n       '21946858689398', '21936668102318', '21851254216175', '21401240628088',\\n       '21914677243411', '21910076532691', '21212258741331', '21912378550182',\\n       '21750430437679', '21834531959459', '21949014504920', '21913485372948',\\n       '21944652845561', '21921523312663', '21901443418760', '21943618669566',\\n       '21947879464102', '21305144042354', '21841771563511', '21744289046478',\\n       '21851254216175', '21929132588088', '21923621845058', '21842800123887',\\n       '21927969882889', '21832455331096', '21949988489146', '21844893480045',\\n       '21212185209542', '21310233817753', '21830396618760', '21917175267200',\\n       '21948952391890', '21938948076412', '21803602135629', '21912313108595',\\n       '21932383700480', '21943564641151', '21836590529448', '21846001614036',\\n       '21949983325320', '21611125564655', '21936680545830', '21916905957037',\\n       '21842801697222', '21713639316248', '21833483909213', '21921523215564',\\n       '21907796642025', '21308291879932', '21827310731757', '21929132588088',\\n       '21816904295681', '21949988470438', '21902545463225', '21836610526235',\\n       '21445664507576', '21833497836969', '21721353507062', '21917175474772',\\n       '21909044150498', '21936668102318', '21843856344604', '21912378550182',\\n       '21911204841700', '21511638715448', '21926882749480', '21748376075932',\\n       '21845922034606', '21825228010887', '21952109135200', '21811763009356'],\\n      dtype='object')] are in the [columns]\""
     ]
    }
   ],
   "source": [
    "product_url = 'https://goods.ruten.com.tw/item/show?' + str(df_total[ID])"
   ]
  },
  {
   "cell_type": "code",
   "execution_count": 8,
   "metadata": {},
   "outputs": [],
   "source": [
    "df_total['rank_eachpage'] = df_total.index+1\n",
    "df_total.to_csv('./0117.csv',index=False)"
   ]
  },
  {
   "cell_type": "code",
   "execution_count": 27,
   "metadata": {},
   "outputs": [
    {
     "data": {
      "text/plain": [
       "80"
      ]
     },
     "execution_count": 27,
     "metadata": {},
     "output_type": "execute_result"
    }
   ],
   "source": [
    "len(Trace_num)"
   ]
  },
  {
   "cell_type": "code",
   "execution_count": 28,
   "metadata": {},
   "outputs": [
    {
     "data": {
      "text/plain": [
       "80"
      ]
     },
     "execution_count": 28,
     "metadata": {},
     "output_type": "execute_result"
    }
   ],
   "source": [
    "len(sale_num) "
   ]
  },
  {
   "cell_type": "code",
   "execution_count": 29,
   "metadata": {},
   "outputs": [
    {
     "data": {
      "text/plain": [
       "80"
      ]
     },
     "execution_count": 29,
     "metadata": {},
     "output_type": "execute_result"
    }
   ],
   "source": [
    "len(RY)"
   ]
  },
  {
   "cell_type": "code",
   "execution_count": 30,
   "metadata": {},
   "outputs": [
    {
     "data": {
      "text/plain": [
       "80"
      ]
     },
     "execution_count": 30,
     "metadata": {},
     "output_type": "execute_result"
    }
   ],
   "source": [
    "len(ID)"
   ]
  },
  {
   "cell_type": "code",
   "execution_count": 31,
   "metadata": {},
   "outputs": [
    {
     "data": {
      "text/plain": [
       "80"
      ]
     },
     "execution_count": 31,
     "metadata": {},
     "output_type": "execute_result"
    }
   ],
   "source": [
    "len(AD)"
   ]
  },
  {
   "cell_type": "code",
   "execution_count": 32,
   "metadata": {},
   "outputs": [],
   "source": [
    "df_total['rank_eachpage'] = df_total.index+1\n",
    "df_total.to_csv('./0117.csv',index=False)"
   ]
  },
  {
   "cell_type": "code",
   "execution_count": 34,
   "metadata": {},
   "outputs": [
    {
     "data": {
      "text/html": [
       "<div>\n",
       "<style scoped>\n",
       "    .dataframe tbody tr th:only-of-type {\n",
       "        vertical-align: middle;\n",
       "    }\n",
       "\n",
       "    .dataframe tbody tr th {\n",
       "        vertical-align: top;\n",
       "    }\n",
       "\n",
       "    .dataframe thead th {\n",
       "        text-align: right;\n",
       "    }\n",
       "</style>\n",
       "<table border=\"1\" class=\"dataframe\">\n",
       "  <thead>\n",
       "    <tr style=\"text-align: right;\">\n",
       "      <th></th>\n",
       "      <th>ID</th>\n",
       "      <th>sale_num</th>\n",
       "      <th>AD</th>\n",
       "      <th>RY</th>\n",
       "      <th>Trace_num</th>\n",
       "      <th>page</th>\n",
       "      <th>rank_eachpage</th>\n",
       "    </tr>\n",
       "  </thead>\n",
       "  <tbody>\n",
       "    <tr>\n",
       "      <td>0</td>\n",
       "      <td>21306013652122</td>\n",
       "      <td>37123</td>\n",
       "      <td>廣告</td>\n",
       "      <td>['col3f', 's_shining']</td>\n",
       "      <td>591</td>\n",
       "      <td>1</td>\n",
       "      <td>1</td>\n",
       "    </tr>\n",
       "    <tr>\n",
       "      <td>1</td>\n",
       "      <td>21919391256750</td>\n",
       "      <td>4302</td>\n",
       "      <td>廣告</td>\n",
       "      <td>['col3f']</td>\n",
       "      <td>41</td>\n",
       "      <td>1</td>\n",
       "      <td>2</td>\n",
       "    </tr>\n",
       "    <tr>\n",
       "      <td>2</td>\n",
       "      <td>21904684329839</td>\n",
       "      <td>1602</td>\n",
       "      <td>廣告</td>\n",
       "      <td>['col3f']</td>\n",
       "      <td>224</td>\n",
       "      <td>1</td>\n",
       "      <td>3</td>\n",
       "    </tr>\n",
       "    <tr>\n",
       "      <td>3</td>\n",
       "      <td>21707288442128</td>\n",
       "      <td>111</td>\n",
       "      <td>廣告</td>\n",
       "      <td>['col3f']</td>\n",
       "      <td>56</td>\n",
       "      <td>1</td>\n",
       "      <td>4</td>\n",
       "    </tr>\n",
       "    <tr>\n",
       "      <td>4</td>\n",
       "      <td>21807687309214</td>\n",
       "      <td>14568</td>\n",
       "      <td>廣告</td>\n",
       "      <td>['col3f', 's_shining']</td>\n",
       "      <td>4800</td>\n",
       "      <td>1</td>\n",
       "      <td>5</td>\n",
       "    </tr>\n",
       "    <tr>\n",
       "      <td>...</td>\n",
       "      <td>...</td>\n",
       "      <td>...</td>\n",
       "      <td>...</td>\n",
       "      <td>...</td>\n",
       "      <td>...</td>\n",
       "      <td>...</td>\n",
       "      <td>...</td>\n",
       "    </tr>\n",
       "    <tr>\n",
       "      <td>2395</td>\n",
       "      <td>21848073055890</td>\n",
       "      <td>24</td>\n",
       "      <td>NaN</td>\n",
       "      <td>['col3f']</td>\n",
       "      <td>8</td>\n",
       "      <td>30</td>\n",
       "      <td>76</td>\n",
       "    </tr>\n",
       "    <tr>\n",
       "      <td>2396</td>\n",
       "      <td>21917115214903</td>\n",
       "      <td>33</td>\n",
       "      <td>NaN</td>\n",
       "      <td>['col3f']</td>\n",
       "      <td>7</td>\n",
       "      <td>30</td>\n",
       "      <td>77</td>\n",
       "    </tr>\n",
       "    <tr>\n",
       "      <td>2397</td>\n",
       "      <td>21827294445693</td>\n",
       "      <td>18</td>\n",
       "      <td>NaN</td>\n",
       "      <td>['col3f']</td>\n",
       "      <td>5</td>\n",
       "      <td>30</td>\n",
       "      <td>78</td>\n",
       "    </tr>\n",
       "    <tr>\n",
       "      <td>2398</td>\n",
       "      <td>21910116907388</td>\n",
       "      <td>261</td>\n",
       "      <td>NaN</td>\n",
       "      <td>['col3f']</td>\n",
       "      <td>39</td>\n",
       "      <td>30</td>\n",
       "      <td>79</td>\n",
       "    </tr>\n",
       "    <tr>\n",
       "      <td>2399</td>\n",
       "      <td>21942372682219</td>\n",
       "      <td>9</td>\n",
       "      <td>NaN</td>\n",
       "      <td>['col3f']</td>\n",
       "      <td>4</td>\n",
       "      <td>30</td>\n",
       "      <td>80</td>\n",
       "    </tr>\n",
       "  </tbody>\n",
       "</table>\n",
       "<p>2400 rows × 7 columns</p>\n",
       "</div>"
      ],
      "text/plain": [
       "                  ID  sale_num   AD                      RY  Trace_num  page  \\\n",
       "0     21306013652122     37123   廣告  ['col3f', 's_shining']        591     1   \n",
       "1     21919391256750      4302   廣告               ['col3f']         41     1   \n",
       "2     21904684329839      1602   廣告               ['col3f']        224     1   \n",
       "3     21707288442128       111   廣告               ['col3f']         56     1   \n",
       "4     21807687309214     14568   廣告  ['col3f', 's_shining']       4800     1   \n",
       "...              ...       ...  ...                     ...        ...   ...   \n",
       "2395  21848073055890        24  NaN               ['col3f']          8    30   \n",
       "2396  21917115214903        33  NaN               ['col3f']          7    30   \n",
       "2397  21827294445693        18  NaN               ['col3f']          5    30   \n",
       "2398  21910116907388       261  NaN               ['col3f']         39    30   \n",
       "2399  21942372682219         9  NaN               ['col3f']          4    30   \n",
       "\n",
       "      rank_eachpage  \n",
       "0                 1  \n",
       "1                 2  \n",
       "2                 3  \n",
       "3                 4  \n",
       "4                 5  \n",
       "...             ...  \n",
       "2395             76  \n",
       "2396             77  \n",
       "2397             78  \n",
       "2398             79  \n",
       "2399             80  \n",
       "\n",
       "[2400 rows x 7 columns]"
      ]
     },
     "execution_count": 34,
     "metadata": {},
     "output_type": "execute_result"
    }
   ],
   "source": [
    "pd.read_csv('./0117.csv')"
   ]
  },
  {
   "cell_type": "code",
   "execution_count": null,
   "metadata": {},
   "outputs": [],
   "source": []
  }
 ],
 "metadata": {
  "kernelspec": {
   "display_name": "Python 3",
   "language": "python",
   "name": "python3"
  },
  "language_info": {
   "codemirror_mode": {
    "name": "ipython",
    "version": 3
   },
   "file_extension": ".py",
   "mimetype": "text/x-python",
   "name": "python",
   "nbconvert_exporter": "python",
   "pygments_lexer": "ipython3",
   "version": "3.7.4"
  },
  "toc": {
   "base_numbering": 1,
   "nav_menu": {},
   "number_sections": true,
   "sideBar": true,
   "skip_h1_title": false,
   "title_cell": "Table of Contents",
   "title_sidebar": "Contents",
   "toc_cell": false,
   "toc_position": {},
   "toc_section_display": true,
   "toc_window_display": false
  },
  "varInspector": {
   "cols": {
    "lenName": 16,
    "lenType": 16,
    "lenVar": 40
   },
   "kernels_config": {
    "python": {
     "delete_cmd_postfix": "",
     "delete_cmd_prefix": "del ",
     "library": "var_list.py",
     "varRefreshCmd": "print(var_dic_list())"
    },
    "r": {
     "delete_cmd_postfix": ") ",
     "delete_cmd_prefix": "rm(",
     "library": "var_list.r",
     "varRefreshCmd": "cat(var_dic_list()) "
    }
   },
   "types_to_exclude": [
    "module",
    "function",
    "builtin_function_or_method",
    "instance",
    "_Feature"
   ],
   "window_display": false
  }
 },
 "nbformat": 4,
 "nbformat_minor": 2
}
