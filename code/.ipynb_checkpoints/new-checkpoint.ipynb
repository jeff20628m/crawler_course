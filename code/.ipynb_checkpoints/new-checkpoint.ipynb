{
 "cells": [
  {
   "cell_type": "code",
   "execution_count": null,
   "metadata": {},
   "outputs": [],
   "source": [
    "df = pd.DataFrame()\n",
    "df_total = pd.DataFrame()\n",
    "for pag in range(100-1) :\n",
    "    \n",
    "    url = driver.current_url\n",
    "    \n",
    "    ########################## 抓\n",
    "    time.sleep(3)\n",
    "    page_source = driver.page_source\n",
    "    soup = BeautifulSoup(page_source, 'html.parser')\n",
    "    \n",
    "    \n",
    "    \n",
    "    \n",
    "    recom_num = []\n",
    "    sale_num = []\n",
    "\n",
    "    \n",
    "    \n",
    "    for pro in range(len(soup.find_all(class_ = \"col3f\"))):\n",
    "\n",
    "        try : \n",
    "            sale_num.append(int(soup.find_all(class_ = \"col3f\")[pro].find(class_ = \"note\").text.replace('銷售','')))\n",
    "        except :\n",
    "            sale_num.append('none')\n",
    "    \n",
    "    \n",
    "    if len(soup.find_all(title = re.compile('已有'))) > 80 :\n",
    "        recom_num = list(map(lambda x : x.text ,soup.find_all(title = re.compile('已有'))))[:80]\n",
    "    else :\n",
    "        recom_num = list(map(lambda x : x.text ,soup.find_all(title = re.compile('已有'))))\n",
    "    ##########################\n",
    "    \n",
    "    df['sale_num'] = sale_num\n",
    "    df['recom'] = recom_num\n",
    "    df['page'] = pag +1 \n",
    "    \n",
    "    \n",
    "    df_total = pd.concat([df_total,df])\n",
    "    \n",
    "    \n",
    "    driver.find_element_by_xpath(\"//ul[@class='pages']//li[@class='next']//a\").click()\n"
   ]
  },
  {
   "cell_type": "code",
   "execution_count": null,
   "metadata": {},
   "outputs": [],
   "source": [
    "df_total['rank_eachpage'] = df_total.index\n",
    "df_total.to_csv('./github/crawler_course/code/df.csv',index=False)\n",
    "\n",
    "pd.read_csv('./github/crawler_course/code/df.csv')"
   ]
  }
 ],
 "metadata": {
  "kernelspec": {
   "display_name": "Python 3",
   "language": "python",
   "name": "python3"
  },
  "language_info": {
   "codemirror_mode": {
    "name": "ipython",
    "version": 3
   },
   "file_extension": ".py",
   "mimetype": "text/x-python",
   "name": "python",
   "nbconvert_exporter": "python",
   "pygments_lexer": "ipython3",
   "version": "3.7.4"
  },
  "toc": {
   "base_numbering": 1,
   "nav_menu": {},
   "number_sections": true,
   "sideBar": true,
   "skip_h1_title": false,
   "title_cell": "Table of Contents",
   "title_sidebar": "Contents",
   "toc_cell": false,
   "toc_position": {},
   "toc_section_display": true,
   "toc_window_display": false
  },
  "varInspector": {
   "cols": {
    "lenName": 16,
    "lenType": 16,
    "lenVar": 40
   },
   "kernels_config": {
    "python": {
     "delete_cmd_postfix": "",
     "delete_cmd_prefix": "del ",
     "library": "var_list.py",
     "varRefreshCmd": "print(var_dic_list())"
    },
    "r": {
     "delete_cmd_postfix": ") ",
     "delete_cmd_prefix": "rm(",
     "library": "var_list.r",
     "varRefreshCmd": "cat(var_dic_list()) "
    }
   },
   "types_to_exclude": [
    "module",
    "function",
    "builtin_function_or_method",
    "instance",
    "_Feature"
   ],
   "window_display": false
  }
 },
 "nbformat": 4,
 "nbformat_minor": 2
}
